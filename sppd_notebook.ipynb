{
 "cells": [
  {
   "cell_type": "markdown",
   "metadata": {},
   "source": [
    "# 1. Imports"
   ]
  },
  {
   "cell_type": "code",
   "execution_count": 2,
   "metadata": {},
   "outputs": [],
   "source": [
    "# local tests\n",
    "import requests\n",
    "import zipfile\n",
    "import io\n",
    "import os\n",
    "\n",
    "# util functions\n",
    "from src.utils.helper import get_soup, recursive_field_dict, recursive_find_value, flatten_dict, get_atom_data, get_main_df\n",
    "from src.utils.mappings import mappings\n",
    "\n",
    "\n",
    "source_url = 'https://www.hacienda.gob.es/es-ES/GobiernoAbierto/Datos%20Abiertos/Paginas/LicitacionesContratante.aspx'"
   ]
  },
  {
   "cell_type": "markdown",
   "metadata": {},
   "source": [
    "# 2. Explore"
   ]
  },
  {
   "cell_type": "code",
   "execution_count": 3,
   "metadata": {},
   "outputs": [],
   "source": [
    "# Get the soup of the source data url\n",
    "soup = get_soup(source_url)\n",
    "\n",
    "# Create a dict with keys the period of the data and the link to the data as values\n",
    "links = [a.get('href') for a in soup.find_all('a') if 'contratacion' in a.get('href') and a.get('href').endswith('zip')]\n",
    "periods = [int(link[113:-4]) for link in links]\n",
    "source_data = {p: l for p, l in zip(periods, links)}"
   ]
  },
  {
   "cell_type": "code",
   "execution_count": 4,
   "metadata": {},
   "outputs": [],
   "source": [
    "# One file for testing purposes: jan2025\n",
    "test = 202501\n",
    "test_zip_url = source_data[test]"
   ]
  },
  {
   "cell_type": "code",
   "execution_count": null,
   "metadata": {},
   "outputs": [],
   "source": [
    "# Get the data of test period: ONLY FOR TESTING PURPOSES\n",
    "response = requests.get(test_zip_url)\n",
    "\n",
    "with zipfile.ZipFile(io.BytesIO(response.content)) as thezip:\n",
    "    thezip.extractall(f'data/{test}')"
   ]
  },
  {
   "cell_type": "code",
   "execution_count": 5,
   "metadata": {},
   "outputs": [],
   "source": [
    "# One file for testing purposes: jan2025\n",
    "test = 202501\n",
    "test_zip_url = source_data[test]\n",
    "\n",
    "# open one file for testing\n",
    "test_files = os.listdir(f'data/{test}')\n",
    "test_file = os.path.join(f'data/{test}', test_files[0])"
   ]
  },
  {
   "cell_type": "code",
   "execution_count": 6,
   "metadata": {},
   "outputs": [],
   "source": [
    "ns, atom, entries = get_atom_data(test_file)\n",
    "df = get_main_df(entries, ns, mappings)"
   ]
  }
 ],
 "metadata": {
  "kernelspec": {
   "display_name": "venv",
   "language": "python",
   "name": "python3"
  },
  "language_info": {
   "codemirror_mode": {
    "name": "ipython",
    "version": 3
   },
   "file_extension": ".py",
   "mimetype": "text/x-python",
   "name": "python",
   "nbconvert_exporter": "python",
   "pygments_lexer": "ipython3",
   "version": "3.10.6"
  }
 },
 "nbformat": 4,
 "nbformat_minor": 2
}
