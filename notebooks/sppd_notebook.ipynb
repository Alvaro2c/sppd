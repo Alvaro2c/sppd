{
 "cells": [
  {
   "cell_type": "markdown",
   "metadata": {},
   "source": [
    "# 1. Imports"
   ]
  },
  {
   "cell_type": "code",
   "execution_count": 2,
   "metadata": {},
   "outputs": [],
   "source": [
    "# util functions\n",
    "from src.utils.helper import (\n",
    "    get_source_data,\n",
    "    download_and_extract_zip,\n",
    "    get_full_paths,\n",
    "    get_folder_path,\n",
    "    get_concat_dfs,\n",
    "    remove_duplicates\n",
    ")\n",
    "from src.utils.mappings import mappings"
   ]
  },
  {
   "cell_type": "markdown",
   "metadata": {},
   "source": [
    "# 2. Explore"
   ]
  },
  {
   "cell_type": "code",
   "execution_count": 3,
   "metadata": {},
   "outputs": [],
   "source": [
    "# Get base source data (dict with periods as keys and cprresponding links as values and define test period\n",
    "source_data = get_source_data()\n",
    "test = '2025'"
   ]
  },
  {
   "cell_type": "code",
   "execution_count": null,
   "metadata": {},
   "outputs": [],
   "source": [
    "# Get the data of test period: ONLY FOR TESTING PURPOSES (and if not already downloaded)\n",
    "download_and_extract_zip(source_data, test)"
   ]
  },
  {
   "cell_type": "code",
   "execution_count": null,
   "metadata": {},
   "outputs": [],
   "source": [
    "folder = get_folder_path(test)\n",
    "full_paths = get_full_paths(folder)"
   ]
  },
  {
   "cell_type": "code",
   "execution_count": 5,
   "metadata": {},
   "outputs": [],
   "source": [
    "test_df = get_concat_dfs(full_paths, mappings)"
   ]
  },
  {
   "cell_type": "code",
   "execution_count": 6,
   "metadata": {},
   "outputs": [],
   "source": [
    "no_dups_df = remove_duplicates(test_df)"
   ]
  },
  {
   "cell_type": "code",
   "execution_count": 7,
   "metadata": {
    "vscode": {
     "languageId": "ruby"
    }
   },
   "outputs": [],
   "source": [
    "no_dups_df.to_parquet(f\"/home/alvaro/code/Alvaro2c/sppd/data/parquet/{test}3.parquet\")"
   ]
  },
  {
   "cell_type": "code",
   "execution_count": 8,
   "metadata": {
    "vscode": {
     "languageId": "ruby"
    }
   },
   "outputs": [],
   "source": [
    "import pandas as pd\n",
    "test_1 = pd.read_parquet(f\"/home/alvaro/code/Alvaro2c/sppd/data/parquet/{test}.parquet\")\n",
    "test_2 = pd.read_parquet(f\"/home/alvaro/code/Alvaro2c/sppd/data/parquet/{test}2.parquet\")\n",
    "test_3 = pd.read_parquet(f\"/home/alvaro/code/Alvaro2c/sppd/data/parquet/{test}3.parquet\")"
   ]
  },
  {
   "cell_type": "code",
   "execution_count": 9,
   "metadata": {
    "vscode": {
     "languageId": "ruby"
    }
   },
   "outputs": [
    {
     "data": {
      "text/plain": [
       "((53427, 33), (53385, 33), (53435, 33))"
      ]
     },
     "execution_count": 9,
     "metadata": {},
     "output_type": "execute_result"
    }
   ],
   "source": [
    "test_1.shape, test_2.shape, test_3.shape"
   ]
  }
 ],
 "metadata": {
  "kernelspec": {
   "display_name": "venv",
   "language": "python",
   "name": "python3"
  },
  "language_info": {
   "codemirror_mode": {
    "name": "ipython",
    "version": 3
   },
   "file_extension": ".py",
   "mimetype": "text/x-python",
   "name": "python",
   "nbconvert_exporter": "python",
   "pygments_lexer": "ipython3",
   "version": "3.10.6"
  }
 },
 "nbformat": 4,
 "nbformat_minor": 2
}
